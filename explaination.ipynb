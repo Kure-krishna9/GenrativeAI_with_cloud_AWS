{
 "cells": [
  {
   "cell_type": "markdown",
   "id": "24d86a14",
   "metadata": {},
   "source": [
    "## Amazon Bedrocks"
   ]
  },
  {
   "cell_type": "markdown",
   "id": "4b754566",
   "metadata": {},
   "source": [
    "it is used for fintune the model with base foundational model"
   ]
  },
  {
   "cell_type": "code",
   "execution_count": null,
   "id": "2edaa689",
   "metadata": {},
   "outputs": [],
   "source": []
  }
 ],
 "metadata": {
  "kernelspec": {
   "display_name": ".venv",
   "language": "python",
   "name": "python3"
  },
  "language_info": {
   "name": "python",
   "version": "3.11.4"
  }
 },
 "nbformat": 4,
 "nbformat_minor": 5
}
